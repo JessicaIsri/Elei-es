{
 "cells": [
  {
   "cell_type": "markdown",
   "id": "f85110a3",
   "metadata": {},
   "source": [
    "## Importação de libs"
   ]
  },
  {
   "cell_type": "code",
   "execution_count": 1,
   "id": "afbbdf55",
   "metadata": {},
   "outputs": [],
   "source": [
    "import pandas as pd "
   ]
  },
  {
   "cell_type": "code",
   "execution_count": 2,
   "id": "3c24d665",
   "metadata": {},
   "outputs": [
    {
     "data": {
      "text/plain": "   DT_GERACAO HH_GERACAO  ANO_ELEICAO SG_UF  CD_MUNICIPIO NM_MUNICIPIO  \\\n0  03/04/2022   16:40:35         9999    SP         61557    ARAÇATUBA   \n1  03/04/2022   16:40:35         9999    SP         61557    ARAÇATUBA   \n2  03/04/2022   16:40:35         9999    SP         61557    ARAÇATUBA   \n3  03/04/2022   16:40:35         9999    SP         61557    ARAÇATUBA   \n4  03/04/2022   16:40:35         9999    SP         61557    ARAÇATUBA   \n\n   CD_MUN_SIT_BIOMETRIA DS_MUN_SIT_BIOMETRIA  NR_ZONA  NR_SECAO  ...  \\\n0                    -2        Não se aplica       11       193  ...   \n1                    -2        Não se aplica       11       193  ...   \n2                    -2        Não se aplica       11       193  ...   \n3                    -2        Não se aplica       11       193  ...   \n4                    -2        Não se aplica       11       193  ...   \n\n   CD_ESTADO_CIVIL DS_ESTADO_CIVIL  CD_FAIXA_ETARIA DS_FAIXA_ETARIA  \\\n0                3          CASADO             5054    50 a 54 anos   \n1                3          CASADO             7579    75 a 79 anos   \n2                9      DIVORCIADO             6569    65 a 69 anos   \n3                1        SOLTEIRO             3034    30 a 34 anos   \n4                1        SOLTEIRO             5054    50 a 54 anos   \n\n   CD_GRAU_ESCOLARIDADE           DS_GRAU_ESCOLARIDADE  QT_ELEITORES_PERFIL  \\\n0                     6          ENSINO MÉDIO COMPLETO                    2   \n1                     3  ENSINO FUNDAMENTAL INCOMPLETO                    2   \n2                     6          ENSINO MÉDIO COMPLETO                    1   \n3                     5        ENSINO MÉDIO INCOMPLETO                    1   \n4                     8              SUPERIOR COMPLETO                    2   \n\n  QT_ELEITORES_BIOMETRIA  QT_ELEITORES_DEFICIENCIA  QT_ELEITORES_INC_NM_SOCIAL  \n0                      2                         0                           0  \n1                      2                         0                           0  \n2                      1                         0                           0  \n3                      1                         0                           0  \n4                      2                         1                           0  \n\n[5 rows x 22 columns]",
      "text/html": "<div>\n<style scoped>\n    .dataframe tbody tr th:only-of-type {\n        vertical-align: middle;\n    }\n\n    .dataframe tbody tr th {\n        vertical-align: top;\n    }\n\n    .dataframe thead th {\n        text-align: right;\n    }\n</style>\n<table border=\"1\" class=\"dataframe\">\n  <thead>\n    <tr style=\"text-align: right;\">\n      <th></th>\n      <th>DT_GERACAO</th>\n      <th>HH_GERACAO</th>\n      <th>ANO_ELEICAO</th>\n      <th>SG_UF</th>\n      <th>CD_MUNICIPIO</th>\n      <th>NM_MUNICIPIO</th>\n      <th>CD_MUN_SIT_BIOMETRIA</th>\n      <th>DS_MUN_SIT_BIOMETRIA</th>\n      <th>NR_ZONA</th>\n      <th>NR_SECAO</th>\n      <th>...</th>\n      <th>CD_ESTADO_CIVIL</th>\n      <th>DS_ESTADO_CIVIL</th>\n      <th>CD_FAIXA_ETARIA</th>\n      <th>DS_FAIXA_ETARIA</th>\n      <th>CD_GRAU_ESCOLARIDADE</th>\n      <th>DS_GRAU_ESCOLARIDADE</th>\n      <th>QT_ELEITORES_PERFIL</th>\n      <th>QT_ELEITORES_BIOMETRIA</th>\n      <th>QT_ELEITORES_DEFICIENCIA</th>\n      <th>QT_ELEITORES_INC_NM_SOCIAL</th>\n    </tr>\n  </thead>\n  <tbody>\n    <tr>\n      <th>0</th>\n      <td>03/04/2022</td>\n      <td>16:40:35</td>\n      <td>9999</td>\n      <td>SP</td>\n      <td>61557</td>\n      <td>ARAÇATUBA</td>\n      <td>-2</td>\n      <td>Não se aplica</td>\n      <td>11</td>\n      <td>193</td>\n      <td>...</td>\n      <td>3</td>\n      <td>CASADO</td>\n      <td>5054</td>\n      <td>50 a 54 anos</td>\n      <td>6</td>\n      <td>ENSINO MÉDIO COMPLETO</td>\n      <td>2</td>\n      <td>2</td>\n      <td>0</td>\n      <td>0</td>\n    </tr>\n    <tr>\n      <th>1</th>\n      <td>03/04/2022</td>\n      <td>16:40:35</td>\n      <td>9999</td>\n      <td>SP</td>\n      <td>61557</td>\n      <td>ARAÇATUBA</td>\n      <td>-2</td>\n      <td>Não se aplica</td>\n      <td>11</td>\n      <td>193</td>\n      <td>...</td>\n      <td>3</td>\n      <td>CASADO</td>\n      <td>7579</td>\n      <td>75 a 79 anos</td>\n      <td>3</td>\n      <td>ENSINO FUNDAMENTAL INCOMPLETO</td>\n      <td>2</td>\n      <td>2</td>\n      <td>0</td>\n      <td>0</td>\n    </tr>\n    <tr>\n      <th>2</th>\n      <td>03/04/2022</td>\n      <td>16:40:35</td>\n      <td>9999</td>\n      <td>SP</td>\n      <td>61557</td>\n      <td>ARAÇATUBA</td>\n      <td>-2</td>\n      <td>Não se aplica</td>\n      <td>11</td>\n      <td>193</td>\n      <td>...</td>\n      <td>9</td>\n      <td>DIVORCIADO</td>\n      <td>6569</td>\n      <td>65 a 69 anos</td>\n      <td>6</td>\n      <td>ENSINO MÉDIO COMPLETO</td>\n      <td>1</td>\n      <td>1</td>\n      <td>0</td>\n      <td>0</td>\n    </tr>\n    <tr>\n      <th>3</th>\n      <td>03/04/2022</td>\n      <td>16:40:35</td>\n      <td>9999</td>\n      <td>SP</td>\n      <td>61557</td>\n      <td>ARAÇATUBA</td>\n      <td>-2</td>\n      <td>Não se aplica</td>\n      <td>11</td>\n      <td>193</td>\n      <td>...</td>\n      <td>1</td>\n      <td>SOLTEIRO</td>\n      <td>3034</td>\n      <td>30 a 34 anos</td>\n      <td>5</td>\n      <td>ENSINO MÉDIO INCOMPLETO</td>\n      <td>1</td>\n      <td>1</td>\n      <td>0</td>\n      <td>0</td>\n    </tr>\n    <tr>\n      <th>4</th>\n      <td>03/04/2022</td>\n      <td>16:40:35</td>\n      <td>9999</td>\n      <td>SP</td>\n      <td>61557</td>\n      <td>ARAÇATUBA</td>\n      <td>-2</td>\n      <td>Não se aplica</td>\n      <td>11</td>\n      <td>193</td>\n      <td>...</td>\n      <td>1</td>\n      <td>SOLTEIRO</td>\n      <td>5054</td>\n      <td>50 a 54 anos</td>\n      <td>8</td>\n      <td>SUPERIOR COMPLETO</td>\n      <td>2</td>\n      <td>2</td>\n      <td>1</td>\n      <td>0</td>\n    </tr>\n  </tbody>\n</table>\n<p>5 rows × 22 columns</p>\n</div>"
     },
     "execution_count": 2,
     "metadata": {},
     "output_type": "execute_result"
    }
   ],
   "source": [
    "path = 'data/perfil_eleitor_secao_ATUAL_SP.csv'\n",
    "df = pd.read_csv(path, sep=';',  encoding=\"latin-1\")\n",
    "df.head(5)"
   ]
  },
  {
   "cell_type": "code",
   "execution_count": 3,
   "id": "67253580",
   "metadata": {},
   "outputs": [],
   "source": [
    "total_rows = len(df)\n",
    "masculino = df.loc[(df.CD_GENERO == 'MASCULINO')]\n",
    "femenino = df.loc[(df.CD_GENERO == 'FEMENINO')]"
   ]
  },
  {
   "cell_type": "code",
   "execution_count": 4,
   "outputs": [
    {
     "data": {
      "text/plain": "<AxesSubplot:>"
     },
     "execution_count": 4,
     "metadata": {},
     "output_type": "execute_result"
    },
    {
     "data": {
      "text/plain": "<Figure size 432x288 with 1 Axes>",
      "image/png": "[encoded data removed]"
     },
     "metadata": {
      "needs_background": "light"
     },
     "output_type": "display_data"
    }
   ],
   "source": [
    "df['CD_GENERO'].plot()"
   ],
   "metadata": {
    "collapsed": false,
    "pycharm": {
     "name": "#%%\n"
    }
   }
  }
 ],
 "metadata": {
  "kernelspec": {
   "display_name": "Python 3 (ipykernel)",
   "language": "python",
   "name": "python3"
  },
  "language_info": {
   "codemirror_mode": {
    "name": "ipython",
    "version": 3
   },
   "file_extension": ".py",
   "mimetype": "text/x-python",
   "name": "python",
   "nbconvert_exporter": "python",
   "pygments_lexer": "ipython3",
   "version": "3.8.9"
  }
 },
 "nbformat": 4,
 "nbformat_minor": 5
}