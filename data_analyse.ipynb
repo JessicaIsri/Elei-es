{
 "cells": [
  {
   "cell_type": "markdown",
   "source": [
    "## Importação de libs e inicialização do diretorio"
   ],
   "metadata": {
    "collapsed": false
   }
  },
  {
   "cell_type": "code",
   "execution_count": 1,
   "metadata": {
    "collapsed": true
   },
   "outputs": [
    {
     "name": "stdout",
     "output_type": "stream",
     "text": [
      "C:\\Users\\Jessica Dias\\PycharmProjects\\bdnaoestruturado\n"
     ]
    }
   ],
   "source": [
    "import pandas as pd\n",
    "import json\n",
    "import os\n",
    "import pathlib\n",
    "\n",
    "pwd = os.sep.join(os.getcwd().split(os.sep)[0:-1])\n",
    "print(pwd)"
   ]
  },
  {
   "cell_type": "markdown",
   "source": [
    "## Definição dos municipios com cobertura"
   ],
   "metadata": {
    "collapsed": false,
    "pycharm": {
     "name": "#%% md\n"
    }
   }
  },
  {
   "cell_type": "code",
   "execution_count": 2,
   "outputs": [
    {
     "name": "stdout",
     "output_type": "stream",
     "text": [
      "{'VALE DO PARAÍBA': ['APARECIDA', 'CAÇAPAVA', 'CACHOEIRA PAULISTA', 'CANAS', 'CUNHA', 'GUARATINGUETÁ', 'IGARATÁ', 'JACAREÍ', 'JAMBEIRO', 'LAGOINHA', 'LORENA', 'NATIVIDADE DA SERRA', 'PARAIBUNA', 'PINDAMONHANGABA', 'PIQUETE', 'POTIM', 'REDENÇÃO DA SERRA', 'ROSEIRA', 'SANTA BRANCA', 'SÃO JOSÉ DOS CAMPOS', 'SÃO LUÍS DO PARAITINGA', 'TAUBATÉ', 'TREMEMBÉ'], 'VALE HISTÓRICO': ['ARAPEÍ', 'AREIAS', 'BANANAL', 'CRUZEIRO', 'LAVRINHAS', 'QUELUZ', 'SÃO JOSÉ DO BARREIRO', 'SILVEIRAS'], 'LITORAL NORTE': ['ILHABELA', 'SÃO SEBASTIÃO', 'UBATUBA', 'CAMPOS DO JORDÃO', 'MONTEIRO LOBATO', 'SANTO ANTÔNIO DO PINHAL', 'SÃO BENTO DO SAPUCAÍ'], 'REGIÃO BRAGANTINA': ['BOM JESUS DOS PERDÕES', 'BRAGANÇA PAULISTA', 'JOANÓPOLIS', 'NAZARÉ PAULISTA', 'PIRACAIA', 'VARGEM']}\n"
     ]
    }
   ],
   "source": [
    "f = open(os.path.join(pwd, 'data', 'municipios.json'), encoding=\"utf8\")\n",
    "data = json.load(f)\n",
    "print(data)"
   ],
   "metadata": {
    "collapsed": false,
    "pycharm": {
     "name": "#%%\n"
    }
   }
  },
  {
   "cell_type": "markdown",
   "source": [
    "## Carregando os dataset"
   ],
   "metadata": {
    "collapsed": false,
    "pycharm": {
     "name": "#%% md\n"
    }
   }
  },
  {
   "cell_type": "code",
   "execution_count": 3,
   "outputs": [],
   "source": [
    "path_dataset = os.path.join(pwd, 'data')\n",
    "eleicao_atual = pd.read_csv(os.path.join(path_dataset, 'perfil_eleitor_secao_ATUAL_SP.csv'), sep=';',\n",
    "                            encoding=\"latin-1\")\n",
    "eleicao_2018 = pd.read_csv(os.path.join(path_dataset, 'perfil_eleitorado_2018.csv'), sep=';',\n",
    "                           encoding=\"latin-1\")\n",
    "eleicao_2020 = pd.read_csv(os.path.join(path_dataset, 'perfil_eleitorado_2020.csv'), sep=';',\n",
    "                           encoding=\"latin-1\")\n",
    "datasets = pd.concat([eleicao_atual, eleicao_2018, eleicao_2018])\n",
    "\n"
   ],
   "metadata": {
    "collapsed": false,
    "pycharm": {
     "name": "#%%\n"
    }
   }
  },
  {
   "cell_type": "markdown",
   "source": [
    "## Classificaçao\n",
    "Jornalista quer saber a classificação do eleitorado a partir do estado civil,\n",
    "escolaridade e faixa etária, além da quantidade de eleitores que utilizam nome social\n",
    "\n",
    "Seleção de cidades do Vale do Paraiba, Bragantino e Litoral Norte"
   ],
   "metadata": {
    "collapsed": false,
    "pycharm": {
     "name": "#%% md\n"
    }
   }
  },
  {
   "cell_type": "code",
   "execution_count": 8,
   "outputs": [
    {
     "name": "stdout",
     "output_type": "stream",
     "text": [
      "['APARECIDA', 'CAÇAPAVA', 'CACHOEIRA PAULISTA', 'CANAS', 'CUNHA', 'GUARATINGUETÁ', 'IGARATÁ', 'JACAREÍ', 'JAMBEIRO', 'LAGOINHA', 'LORENA', 'NATIVIDADE DA SERRA', 'PARAIBUNA', 'PINDAMONHANGABA', 'PIQUETE', 'POTIM', 'REDENÇÃO DA SERRA', 'ROSEIRA', 'SANTA BRANCA', 'SÃO JOSÉ DOS CAMPOS', 'SÃO LUÍS DO PARAITINGA', 'TAUBATÉ', 'TREMEMBÉ', 'ARAPEÍ', 'AREIAS', 'BANANAL', 'CRUZEIRO', 'LAVRINHAS', 'QUELUZ', 'SÃO JOSÉ DO BARREIRO', 'SILVEIRAS', 'ILHABELA', 'SÃO SEBASTIÃO', 'UBATUBA', 'CAMPOS DO JORDÃO', 'MONTEIRO LOBATO', 'SANTO ANTÔNIO DO PINHAL', 'SÃO BENTO DO SAPUCAÍ', 'BOM JESUS DOS PERDÕES', 'BRAGANÇA PAULISTA', 'JOANÓPOLIS', 'NAZARÉ PAULISTA', 'PIRACAIA', 'VARGEM']\n"
     ]
    },
    {
     "data": {
      "text/plain": "       DT_GERACAO HH_GERACAO  ANO_ELEICAO SG_UF  CD_MUNICIPIO NM_MUNICIPIO  \\\n23147  03/04/2022   16:40:35         9999    SP         71838      TAUBATÉ   \n23148  03/04/2022   16:40:35         9999    SP         71838      TAUBATÉ   \n23149  03/04/2022   16:40:35         9999    SP         71838      TAUBATÉ   \n23150  03/04/2022   16:40:35         9999    SP         71838      TAUBATÉ   \n23151  03/04/2022   16:40:35         9999    SP         71838      TAUBATÉ   \n\n       CD_MUN_SIT_BIOMETRIA DS_MUN_SIT_BIOMETRIA  NR_ZONA  NR_SECAO  ...  \\\n23147                    -2        Não se aplica      141     255.0  ...   \n23148                    -2        Não se aplica      141     255.0  ...   \n23149                    -2        Não se aplica      141     255.0  ...   \n23150                    -2        Não se aplica      141     255.0  ...   \n23151                    -2        Não se aplica      141     255.0  ...   \n\n       CD_ESTADO_CIVIL DS_ESTADO_CIVIL  CD_FAIXA_ETARIA DS_FAIXA_ETARIA  \\\n23147                3          CASADO             3539    35 a 39 anos   \n23148                3          CASADO             5559    55 a 59 anos   \n23149                3          CASADO             8589    85 a 89 anos   \n23150                3          CASADO             6064    60 a 64 anos   \n23151                3          CASADO             6569    65 a 69 anos   \n\n       CD_GRAU_ESCOLARIDADE           DS_GRAU_ESCOLARIDADE  \\\n23147                     8              SUPERIOR COMPLETO   \n23148                     8              SUPERIOR COMPLETO   \n23149                     3  ENSINO FUNDAMENTAL INCOMPLETO   \n23150                     8              SUPERIOR COMPLETO   \n23151                     5        ENSINO MÉDIO INCOMPLETO   \n\n       QT_ELEITORES_PERFIL QT_ELEITORES_BIOMETRIA  QT_ELEITORES_DEFICIENCIA  \\\n23147                    7                      7                         0   \n23148                    2                      1                         0   \n23149                    1                      0                         0   \n23150                    1                      1                         0   \n23151                    1                      0                         0   \n\n       QT_ELEITORES_INC_NM_SOCIAL  \n23147                           0  \n23148                           0  \n23149                           0  \n23150                           0  \n23151                           0  \n\n[5 rows x 22 columns]",
      "text/html": "<div>\n<style scoped>\n    .dataframe tbody tr th:only-of-type {\n        vertical-align: middle;\n    }\n\n    .dataframe tbody tr th {\n        vertical-align: top;\n    }\n\n    .dataframe thead th {\n        text-align: right;\n    }\n</style>\n<table border=\"1\" class=\"dataframe\">\n  <thead>\n    <tr style=\"text-align: right;\">\n      <th></th>\n      <th>DT_GERACAO</th>\n      <th>HH_GERACAO</th>\n      <th>ANO_ELEICAO</th>\n      <th>SG_UF</th>\n      <th>CD_MUNICIPIO</th>\n      <th>NM_MUNICIPIO</th>\n      <th>CD_MUN_SIT_BIOMETRIA</th>\n      <th>DS_MUN_SIT_BIOMETRIA</th>\n      <th>NR_ZONA</th>\n      <th>NR_SECAO</th>\n      <th>...</th>\n      <th>CD_ESTADO_CIVIL</th>\n      <th>DS_ESTADO_CIVIL</th>\n      <th>CD_FAIXA_ETARIA</th>\n      <th>DS_FAIXA_ETARIA</th>\n      <th>CD_GRAU_ESCOLARIDADE</th>\n      <th>DS_GRAU_ESCOLARIDADE</th>\n      <th>QT_ELEITORES_PERFIL</th>\n      <th>QT_ELEITORES_BIOMETRIA</th>\n      <th>QT_ELEITORES_DEFICIENCIA</th>\n      <th>QT_ELEITORES_INC_NM_SOCIAL</th>\n    </tr>\n  </thead>\n  <tbody>\n    <tr>\n      <th>23147</th>\n      <td>03/04/2022</td>\n      <td>16:40:35</td>\n      <td>9999</td>\n      <td>SP</td>\n      <td>71838</td>\n      <td>TAUBATÉ</td>\n      <td>-2</td>\n      <td>Não se aplica</td>\n      <td>141</td>\n      <td>255.0</td>\n      <td>...</td>\n      <td>3</td>\n      <td>CASADO</td>\n      <td>3539</td>\n      <td>35 a 39 anos</td>\n      <td>8</td>\n      <td>SUPERIOR COMPLETO</td>\n      <td>7</td>\n      <td>7</td>\n      <td>0</td>\n      <td>0</td>\n    </tr>\n    <tr>\n      <th>23148</th>\n      <td>03/04/2022</td>\n      <td>16:40:35</td>\n      <td>9999</td>\n      <td>SP</td>\n      <td>71838</td>\n      <td>TAUBATÉ</td>\n      <td>-2</td>\n      <td>Não se aplica</td>\n      <td>141</td>\n      <td>255.0</td>\n      <td>...</td>\n      <td>3</td>\n      <td>CASADO</td>\n      <td>5559</td>\n      <td>55 a 59 anos</td>\n      <td>8</td>\n      <td>SUPERIOR COMPLETO</td>\n      <td>2</td>\n      <td>1</td>\n      <td>0</td>\n      <td>0</td>\n    </tr>\n    <tr>\n      <th>23149</th>\n      <td>03/04/2022</td>\n      <td>16:40:35</td>\n      <td>9999</td>\n      <td>SP</td>\n      <td>71838</td>\n      <td>TAUBATÉ</td>\n      <td>-2</td>\n      <td>Não se aplica</td>\n      <td>141</td>\n      <td>255.0</td>\n      <td>...</td>\n      <td>3</td>\n      <td>CASADO</td>\n      <td>8589</td>\n      <td>85 a 89 anos</td>\n      <td>3</td>\n      <td>ENSINO FUNDAMENTAL INCOMPLETO</td>\n      <td>1</td>\n      <td>0</td>\n      <td>0</td>\n      <td>0</td>\n    </tr>\n    <tr>\n      <th>23150</th>\n      <td>03/04/2022</td>\n      <td>16:40:35</td>\n      <td>9999</td>\n      <td>SP</td>\n      <td>71838</td>\n      <td>TAUBATÉ</td>\n      <td>-2</td>\n      <td>Não se aplica</td>\n      <td>141</td>\n      <td>255.0</td>\n      <td>...</td>\n      <td>3</td>\n      <td>CASADO</td>\n      <td>6064</td>\n      <td>60 a 64 anos</td>\n      <td>8</td>\n      <td>SUPERIOR COMPLETO</td>\n      <td>1</td>\n      <td>1</td>\n      <td>0</td>\n      <td>0</td>\n    </tr>\n    <tr>\n      <th>23151</th>\n      <td>03/04/2022</td>\n      <td>16:40:35</td>\n      <td>9999</td>\n      <td>SP</td>\n      <td>71838</td>\n      <td>TAUBATÉ</td>\n      <td>-2</td>\n      <td>Não se aplica</td>\n      <td>141</td>\n      <td>255.0</td>\n      <td>...</td>\n      <td>3</td>\n      <td>CASADO</td>\n      <td>6569</td>\n      <td>65 a 69 anos</td>\n      <td>5</td>\n      <td>ENSINO MÉDIO INCOMPLETO</td>\n      <td>1</td>\n      <td>0</td>\n      <td>0</td>\n      <td>0</td>\n    </tr>\n  </tbody>\n</table>\n<p>5 rows × 22 columns</p>\n</div>"
     },
     "execution_count": 8,
     "metadata": {},
     "output_type": "execute_result"
    }
   ],
   "source": [
    "vale = data.get('VALE DO PARAÍBA')\n",
    "v_historico = data.get('VALE HISTÓRICO')\n",
    "l_norte = data.get('LITORAL NORTE')\n",
    "r_bragantina = data.get('REGIÃO BRAGANTINA')\n",
    "\n",
    "todas_cidades = vale + v_historico + l_norte + r_bragantina\n",
    "print(todas_cidades)\n",
    "cidades =  datasets.loc[datasets.NM_MUNICIPIO.isin(todas_cidades)]\n",
    "cidades.head(5)"
   ],
   "metadata": {
    "collapsed": false,
    "pycharm": {
     "name": "#%%\n"
    }
   }
  },
  {
   "cell_type": "markdown",
   "source": [
    "#### Agrupamento por genero"
   ],
   "metadata": {
    "collapsed": false,
    "pycharm": {
     "name": "#%% md\n"
    }
   }
  },
  {
   "cell_type": "code",
   "execution_count": 4,
   "outputs": [
    {
     "ename": "NameError",
     "evalue": "name 'cidades' is not defined",
     "output_type": "error",
     "traceback": [
      "\u001B[1;31m---------------------------------------------------------------------------\u001B[0m",
      "\u001B[1;31mNameError\u001B[0m                                 Traceback (most recent call last)",
      "Input \u001B[1;32mIn [4]\u001B[0m, in \u001B[0;36m<cell line: 1>\u001B[1;34m()\u001B[0m\n\u001B[1;32m----> 1\u001B[0m agrupamento_genero \u001B[38;5;241m=\u001B[39m \u001B[43mcidades\u001B[49m\u001B[38;5;241m.\u001B[39mgroupby(\u001B[38;5;124m'\u001B[39m\u001B[38;5;124mDS_GENERO\u001B[39m\u001B[38;5;124m'\u001B[39m)\u001B[38;5;241m.\u001B[39msize()\n\u001B[0;32m      2\u001B[0m \u001B[38;5;28mprint\u001B[39m(agrupamento_genero)\n\u001B[0;32m      3\u001B[0m agrupamento_genero\u001B[38;5;241m.\u001B[39mplot\u001B[38;5;241m.\u001B[39mpie()\n",
      "\u001B[1;31mNameError\u001B[0m: name 'cidades' is not defined"
     ]
    }
   ],
   "source": [
    "agrupamento_genero = cidades.groupby('DS_GENERO').size()\n",
    "print(agrupamento_genero)\n",
    "agrupamento_genero.plot.pie()"
   ],
   "metadata": {
    "collapsed": false,
    "pycharm": {
     "name": "#%%\n"
    }
   }
  },
  {
   "cell_type": "markdown",
   "source": [
    "#### Agrupamento por genero"
   ],
   "metadata": {
    "collapsed": false
   }
  }
 ],
 "metadata": {
  "kernelspec": {
   "display_name": "Python 3",
   "language": "python",
   "name": "python3"
  },
  "language_info": {
   "codemirror_mode": {
    "name": "ipython",
    "version": 2
   },
   "file_extension": ".py",
   "mimetype": "text/x-python",
   "name": "python",
   "nbconvert_exporter": "python",
   "pygments_lexer": "ipython2",
   "version": "2.7.6"
  }
 },
 "nbformat": 4,
 "nbformat_minor": 0
}